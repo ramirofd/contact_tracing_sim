{
 "cells": [
  {
   "cell_type": "code",
   "execution_count": 1,
   "id": "fa554182",
   "metadata": {},
   "outputs": [],
   "source": [
    "import pandas as pd\n",
    "import numpy as np\n",
    "import seaborn as sns\n",
    "from matplotlib import pyplot as plt"
   ]
  },
  {
   "cell_type": "markdown",
   "id": "5acedbf1",
   "metadata": {},
   "source": [
    "## Window Time Threshold comparison\n",
    "\n",
    "To calculate real contact time we use position files"
   ]
  },
  {
   "cell_type": "code",
   "execution_count": 2,
   "id": "cf17bf21",
   "metadata": {},
   "outputs": [],
   "source": [
    "# Parameters for calculations\n",
    "nodeA_id = 1\n",
    "nodeB_id = 2\n",
    "broadcast_time = [0.65, 1.25, 2.5] #seconds\n",
    "log_position_time = 0.1 #seconds\n",
    "window_time_threshold = 0.1"
   ]
  },
  {
   "cell_type": "code",
   "execution_count": 18,
   "id": "496ac659",
   "metadata": {},
   "outputs": [
    {
     "data": {
      "text/plain": [
       "0          1\n",
       "1          1\n",
       "2          1\n",
       "3          1\n",
       "4          1\n",
       "        ... \n",
       "13195    263\n",
       "13196    263\n",
       "13197    263\n",
       "13198    263\n",
       "13199    263\n",
       "Name: distance, Length: 13200, dtype: int32"
      ]
     },
     "execution_count": 18,
     "metadata": {},
     "output_type": "execute_result"
    }
   ],
   "source": [
    "\n",
    "\n",
    "bt = min(broadcast_time)\n",
    "nodeA_pos_file_name = f'../results/n{nodeA_id}_{window_time_threshold}wt-{bt}bt-{log_position_time}lp_position.csv'\n",
    "nodeB_pos_file_name = f'../results/n{nodeB_id}_{window_time_threshold}wt-{bt}bt-{log_position_time}lp_position.csv'\n",
    "\n",
    "position_file_header = ['node_A', 'timestamp_A', 'x_pos_A', 'y_pos_A']\n",
    "nodeA_pos = pd.read_csv(nodeA_pos_file_name, names=position_file_header)\n",
    "position_file_header = ['node_B', 'timestamp_B', 'x_pos_B', 'y_pos_B']\n",
    "nodeB_pos = pd.read_csv(nodeB_pos_file_name, names=position_file_header)\n",
    "\n",
    "df_pos = pd.concat([nodeA_pos, nodeB_pos], axis=1)\n",
    "\n",
    "# real_contact_time = (np.sqrt(np.power(nodeA_pos.x_pos-nodeB_pos.x_pos, 2)+np.power(nodeA_pos.y_pos-nodeB_pos.y_pos, 2))<2.0)\n",
    "df_pos['distance'] = (np.sqrt(np.power(df_pos.x_pos_A-df_pos.x_pos_B, 2)+np.power(df_pos.y_pos_A-df_pos.y_pos_B, 2)))<2.0\n",
    "\n",
    "# print(f'Real contact time for {bt}s of broadcast time: {real_contact_time}')\n",
    "adj_check = (df_pos.distance != df_pos.distance.shift()).cumsum()\n",
    "adj_check\n"
   ]
  },
  {
   "cell_type": "markdown",
   "id": "cb4e66bb",
   "metadata": {},
   "source": [
    "Now we prepare and plot total contact time based vs window time threshold and compare it with the real contact time."
   ]
  },
  {
   "cell_type": "code",
   "execution_count": 4,
   "id": "5b34142a",
   "metadata": {},
   "outputs": [
    {
     "data": {
      "image/png": "[encoded data removed]",
      "text/plain": [
       "<Figure size 432x288 with 1 Axes>"
      ]
     },
     "metadata": {
      "needs_background": "light"
     },
     "output_type": "display_data"
    }
   ],
   "source": [
    "# Dataframe preparation\n",
    "result_file_header = [\"node\", \"broadcast_time\", \"seen_id\", \"told_by\", \"hop\", \"start\", \"end\"]\n",
    "total_contact_time = pd.DataFrame()\n",
    "\n",
    "for bt in broadcast_time:\n",
    "    nodeA_res_file_name = f'../results/n{nodeA_id}_{window_time_threshold}wt-{bt}bt-{log_position_time}lp_results.csv'\n",
    "    nodeB_res_file_name = f'../results/n{nodeB_id}_{window_time_threshold}wt-{bt}bt-{log_position_time}lp_results.csv'\n",
    "\n",
    "    nodeA_res = pd.read_csv(nodeA_res_file_name, names=result_file_header)\n",
    "    nodeB_res = pd.read_csv(nodeB_res_file_name, names=result_file_header)\n",
    "    df = pd.concat([nodeA_res, nodeB_res], ignore_index=True)\n",
    "    df[\"total_contact_time\"] = df[\"end\"]-df[\"start\"]\n",
    "    df[\"broadcast_time\"] = bt\n",
    "    total_contact_time = pd.concat([total_contact_time, df], ignore_index=True)\n",
    "\n",
    "\n",
    "total_contact_time = total_contact_time.drop([\"told_by\", \"hop\", \"start\", \"end\"], axis=1).groupby([\"node\", \"seen_id\", \"broadcast_time\"], as_index=False).sum()\n",
    "total_contact_time[total_contact_time.node==1]\n",
    "# total_contact_time[\"frecuency\"] = 1/total_contact_time[\"broadcast_time\"]\n",
    "# df[\"total_contact_time\"] = df[\"total_contact_time\"]/3600\n",
    "# Plot\n",
    "plot = sns.lineplot(x=\"broadcast_time\", y=\"total_contact_time\", data=total_contact_time[total_contact_time.node==1])\n",
    "plot.axhline(real_contact_time)\n",
    "plt.show()"
   ]
  },
  {
   "cell_type": "code",
   "execution_count": null,
   "id": "3ac5f4ce",
   "metadata": {},
   "outputs": [],
   "source": []
  }
 ],
 "metadata": {
  "kernelspec": {
   "display_name": "Python 3 (ipykernel)",
   "language": "python",
   "name": "python3"
  },
  "language_info": {
   "codemirror_mode": {
    "name": "ipython",
    "version": 3
   },
   "file_extension": ".py",
   "mimetype": "text/x-python",
   "name": "python",
   "nbconvert_exporter": "python",
   "pygments_lexer": "ipython3",
   "version": "3.9.7"
  }
 },
 "nbformat": 4,
 "nbformat_minor": 5
}
