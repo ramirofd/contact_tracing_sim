{
 "cells": [
  {
   "cell_type": "code",
   "execution_count": 35,
   "id": "fa554182",
   "metadata": {
    "pycharm": {
     "name": "#%%\n"
    }
   },
   "outputs": [],
   "source": [
    "import pandas as pd\n",
    "import numpy as np\n",
    "import seaborn as sns\n",
    "from matplotlib import pyplot as plt"
   ]
  },
  {
   "cell_type": "code",
   "execution_count": null,
   "outputs": [],
   "source": [
    "# Parameters for calculations\n",
    "nodeA_id = 1\n",
    "nodeB_id = 2\n",
    "broadcast_time = list(np.arange(0.5, 20.5, 0.5)) #seconds\n",
    "log_position_time = 0.1 #seconds\n",
    "window_time_threshold = list(np.arange(0.49, 20, 0.5))\n",
    "sim_time = 60 #minutes\n",
    "sim_time_seg = sim_time*60\n",
    "results_path = f'../results/{sim_time}min'\n"
   ],
   "metadata": {
    "collapsed": false,
    "pycharm": {
     "name": "#%%\n"
    }
   }
  },
  {
   "cell_type": "markdown",
   "source": [
    "## Real Contact Time %\n",
    "\n",
    "To calculate real contact time we use position files"
   ],
   "metadata": {
    "collapsed": false,
    "pycharm": {
     "name": "#%% md\n"
    }
   }
  },
  {
   "cell_type": "code",
   "execution_count": null,
   "outputs": [],
   "source": [
    "avg_sum = 0\n",
    "avg_total_time = 0\n",
    "\n",
    "for idx, bt in enumerate(broadcast_time):\n",
    "    nodeA_pos_file_name = f'{results_path}/n{nodeA_id}_{window_time_threshold[idx]:.2f}wt-{bt:.2f}bt-{log_position_time:.2f}lp_position.csv'\n",
    "    nodeB_pos_file_name = f'{results_path}/n{nodeB_id}_{window_time_threshold[idx]:.2f}wt-{bt:.2f}bt-{log_position_time:.2f}lp_position.csv'\n",
    "\n",
    "    position_file_header = ['node_A', 'timestamp_A', 'x_pos_A', 'y_pos_A']\n",
    "    nodeA_pos = pd.read_csv(nodeA_pos_file_name, names=position_file_header)\n",
    "    position_file_header = ['node_B', 'timestamp_B', 'x_pos_B', 'y_pos_B']\n",
    "    nodeB_pos = pd.read_csv(nodeB_pos_file_name, names=position_file_header)\n",
    "\n",
    "\n",
    "    df_pos = pd.concat([nodeA_pos, nodeB_pos], axis=1)\n",
    "    df_pos['distance'] = (np.sqrt(np.power(df_pos.x_pos_A-df_pos.x_pos_B, 2)+np.power(df_pos.y_pos_A-df_pos.y_pos_B, 2)))<2.0\n",
    "\n",
    "    adj_check = (df_pos.distance != df_pos.distance.shift()).cumsum()\n",
    "    time = df_pos.groupby(['node_A','distance', adj_check], as_index=False, sort=False)['distance'].sum()*0.1\n",
    "\n",
    "    real_contact_time = time.groupby('node_A').sum().iloc[0][0]\n",
    "    avg_sum += real_contact_time\n",
    "    avg_total_time = real_contact_time if real_contact_time>avg_total_time else avg_total_time\n",
    "\n",
    "# avg_total_time = avg_sum/len(broadcast_time)\n",
    "avg_total_time/=sim_time_seg\n",
    "# avg_total_time*=100\n",
    "print(avg_total_time)"
   ],
   "metadata": {
    "collapsed": false,
    "pycharm": {
     "name": "#%%\n"
    }
   }
  },
  {
   "cell_type": "markdown",
   "source": [
    "## Estimated Contact Time %\n",
    "\n",
    "Contact time estimated with the protocol, plot compared to real contact time"
   ],
   "metadata": {
    "collapsed": false,
    "pycharm": {
     "name": "#%% md\n"
    }
   }
  },
  {
   "cell_type": "code",
   "execution_count": null,
   "outputs": [],
   "source": [
    "# Dataframe preparation\n",
    "result_file_header = [\"node\", \"broadcast_time\", \"seen_id\", \"told_by\", \"hop\", \"start\", \"end\"]\n",
    "nodeA_res = pd.DataFrame()\n",
    "\n",
    "for idx, bt in enumerate(broadcast_time):\n",
    "    nodeA_res_file_name = f'{results_path}/n{nodeA_id}_{window_time_threshold[idx]:.2f}wt-{bt:.2f}bt-{log_position_time:.2f}lp_results.csv'\n",
    "    # nodeB_res_file_name = f'{results_path}/n{nodeB_id}_{window_time_threshold[idx]}wt-{bt}bt-{log_position_time}lp_results.csv'\n",
    "    df = pd.read_csv(nodeA_res_file_name, names=result_file_header)\n",
    "    df[\"total_contact_time\"] = df[\"end\"]-df[\"start\"]\n",
    "    df[\"broadcast_time\"] = bt\n",
    "    nodeA_res = pd.concat([nodeA_res, df])\n",
    "    # nodeB_res = pd.read_csv(nodeB_res_file_name, names=result_file_header)\n",
    "    # df = pd.concat([nodeA_res, nodeB_res], ignore_index=True)\n",
    "# nodeA_res\n",
    "nodeA_res.drop([\"told_by\", \"hop\", \"start\", \"end\"], axis=1).groupby([\"node\", \"seen_id\", \"broadcast_time\"], as_index=False).sum()\n",
    "#     # total_contact_time = pd.concat([total_contact_time, df], ignore_index=True)\n",
    "total_contact_time = nodeA_res.drop([\"told_by\", \"hop\", \"start\", \"end\"], axis=1).groupby([\"node\", \"seen_id\", \"broadcast_time\"], as_index=False).sum()\n",
    "# total_contact_time.total_contact_time.broadcast_time = total_contact_time.total_contact_time/sim_time_seg\n",
    "total_contact_time.total_contact_time = total_contact_time.total_contact_time/sim_time_seg\n",
    "total_contact_time[\"frecuency\"] = 1/total_contact_time[\"broadcast_time\"]\n",
    "# # # # Plot\n",
    "a4_dims = (16,9)\n",
    "fig, ax = plt.subplots(figsize=a4_dims)\n",
    "#\n",
    "plot = sns.lineplot(x=\"frecuency\", y=\"total_contact_time\", data=total_contact_time[total_contact_time.node==1], ax=ax)\n",
    "# plot.set(xscale='log')\n",
    "ax.axhline(avg_total_time, ls='--', color='orange')\n",
    "ax.lines[0].set_label('Detected CT')\n",
    "ax.lines[1].set_label('Real CT')\n",
    "ax.legend()\n",
    "plt.show()"
   ],
   "metadata": {
    "collapsed": false,
    "pycharm": {
     "name": "#%%\n"
    }
   }
  },
  {
   "cell_type": "markdown",
   "source": [
    "## Window count: Real VS Estimated"
   ],
   "metadata": {
    "collapsed": false,
    "pycharm": {
     "name": "#%% md\n"
    }
   }
  },
  {
   "cell_type": "code",
   "execution_count": null,
   "outputs": [],
   "source": [
    "real = []\n",
    "estimated = []\n",
    "for idx, bt in enumerate(broadcast_time):\n",
    "    nodeA_pos_file_name = f'{results_path}/n{nodeA_id}_{window_time_threshold[idx]:.2f}wt-{bt:.2f}bt-{log_position_time:.2f}lp_position.csv'\n",
    "    nodeB_pos_file_name = f'{results_path}/n{nodeB_id}_{window_time_threshold[idx]:.2f}wt-{bt:.2f}bt-{log_position_time:.2f}lp_position.csv'\n",
    "\n",
    "    position_file_header = ['node_A', 'timestamp_A', 'x_pos_A', 'y_pos_A']\n",
    "    nodeA_pos = pd.read_csv(nodeA_pos_file_name, names=position_file_header)\n",
    "    position_file_header = ['node_B', 'timestamp_B', 'x_pos_B', 'y_pos_B']\n",
    "    nodeB_pos = pd.read_csv(nodeB_pos_file_name, names=position_file_header)\n",
    "\n",
    "    nodeA_res_file_name = f'{results_path}/n{nodeA_id}_{window_time_threshold[idx]:.2f}wt-{bt:.2f}bt-{log_position_time:.2f}lp_results.csv'\n",
    "    df = pd.read_csv(nodeA_res_file_name, names=result_file_header)\n",
    "\n",
    "\n",
    "    df_pos = pd.concat([nodeA_pos, nodeB_pos], axis=1)\n",
    "    df_pos['distance'] = (np.sqrt(np.power(df_pos.x_pos_A-df_pos.x_pos_B, 2)+np.power(df_pos.y_pos_A-df_pos.y_pos_B, 2)))<2.0\n",
    "\n",
    "    adj_check = (df_pos.distance != df_pos.distance.shift()).cumsum()\n",
    "    time = df_pos.groupby(['node_A','distance', adj_check], as_index=False, sort=False)['distance'].sum()*0.1\n",
    "    real.append(np.count_nonzero(time.distance!=0))\n",
    "    estimated.append(df.shape[0])\n",
    "\n",
    "fig, ax = plt.subplots(figsize=a4_dims)\n",
    "sns.barplot(x=np.array(broadcast_time), y=real, ax=ax, color='red')\n",
    "sns.barplot(x=np.array(broadcast_time), y=estimated, ax=ax, color='orange')\n",
    "# ax.set(xscale='log')0"
   ],
   "metadata": {
    "collapsed": false,
    "pycharm": {
     "name": "#%%\n"
    }
   }
  },
  {
   "cell_type": "markdown",
   "source": [
    "## Accumulative Window Time VS Simulation Time"
   ],
   "metadata": {
    "collapsed": false,
    "pycharm": {
     "name": "#%% md\n"
    }
   }
  },
  {
   "cell_type": "code",
   "execution_count": null,
   "outputs": [],
   "source": [
    "# for idx, bt in enumerate(broadcast_time):\n",
    "a4_dims = (16,9)\n",
    "fig, ax = plt.subplots(figsize=a4_dims)\n",
    "broadcast_time = [ 2, 5, 10]\n",
    "\n",
    "for idx, bt in enumerate(broadcast_time):\n",
    "    nodeA_res_file_name = f'{results_path}/n{nodeA_id}_{0.49:.2f}wt-{0.5:.2f}bt-{log_position_time:.2f}lp_results.csv'\n",
    "    df = pd.read_csv(nodeA_res_file_name, names=result_file_header)\n",
    "    df[\"total_contact_time\"] = df[\"end\"]-df[\"start\"]\n",
    "    df[\"cumulative_time\"] = df.total_contact_time.cumsum()\n",
    "    plot = sns.lineplot(x=np.arange(0, df.shape[0]), y=df.cumulative_time, ax=ax, label=f\"bt {bt}\")\n",
    "\n",
    "ax.legend()\n",
    "plt.show()"
   ],
   "metadata": {
    "collapsed": false,
    "pycharm": {
     "name": "#%%\n"
    }
   }
  },
  {
   "cell_type": "code",
   "execution_count": null,
   "outputs": [],
   "source": [],
   "metadata": {
    "collapsed": false,
    "pycharm": {
     "name": "#%%\n"
    }
   }
  }
 ],
 "metadata": {
  "kernelspec": {
   "display_name": "Python 3 (ipykernel)",
   "language": "python",
   "name": "python3"
  },
  "language_info": {
   "codemirror_mode": {
    "name": "ipython",
    "version": 3
   },
   "file_extension": ".py",
   "mimetype": "text/x-python",
   "name": "python",
   "nbconvert_exporter": "python",
   "pygments_lexer": "ipython3",
   "version": "3.9.7"
  }
 },
 "nbformat": 4,
 "nbformat_minor": 5
}